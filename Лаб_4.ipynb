{
  "nbformat": 4,
  "nbformat_minor": 0,
  "metadata": {
    "colab": {
      "provenance": [],
      "authorship_tag": "ABX9TyNl9kB9ZFQ7AIqOClPfR2Tt",
      "include_colab_link": true
    },
    "kernelspec": {
      "name": "python3",
      "display_name": "Python 3"
    },
    "language_info": {
      "name": "python"
    }
  },
  "cells": [
    {
      "cell_type": "markdown",
      "metadata": {
        "id": "view-in-github",
        "colab_type": "text"
      },
      "source": [
        "<a href=\"https://colab.research.google.com/github/Pakostipup/ML_labs/blob/main/%D0%9B%D0%B0%D0%B1_4.ipynb\" target=\"_parent\"><img src=\"https://colab.research.google.com/assets/colab-badge.svg\" alt=\"Open In Colab\"/></a>"
      ]
    },
    {
      "cell_type": "code",
      "execution_count": 79,
      "metadata": {
        "colab": {
          "base_uri": "https://localhost:8080/"
        },
        "id": "hrKbwBtIvYTd",
        "outputId": "8dbeb55a-a1c2-4c0b-de8d-64b3bc4a8eb6"
      },
      "outputs": [
        {
          "output_type": "stream",
          "name": "stdout",
          "text": [
            "Requirement already satisfied: pandas in /usr/local/lib/python3.10/dist-packages (2.2.2)\n",
            "Requirement already satisfied: scikit-learn in /usr/local/lib/python3.10/dist-packages (1.6.0)\n",
            "Requirement already satisfied: seaborn in /usr/local/lib/python3.10/dist-packages (0.13.2)\n",
            "Requirement already satisfied: scipy in /usr/local/lib/python3.10/dist-packages (1.13.1)\n",
            "Requirement already satisfied: numpy>=1.22.4 in /usr/local/lib/python3.10/dist-packages (from pandas) (1.26.4)\n",
            "Requirement already satisfied: python-dateutil>=2.8.2 in /usr/local/lib/python3.10/dist-packages (from pandas) (2.8.2)\n",
            "Requirement already satisfied: pytz>=2020.1 in /usr/local/lib/python3.10/dist-packages (from pandas) (2024.2)\n",
            "Requirement already satisfied: tzdata>=2022.7 in /usr/local/lib/python3.10/dist-packages (from pandas) (2024.2)\n",
            "Requirement already satisfied: joblib>=1.2.0 in /usr/local/lib/python3.10/dist-packages (from scikit-learn) (1.4.2)\n",
            "Requirement already satisfied: threadpoolctl>=3.1.0 in /usr/local/lib/python3.10/dist-packages (from scikit-learn) (3.5.0)\n",
            "Requirement already satisfied: matplotlib!=3.6.1,>=3.4 in /usr/local/lib/python3.10/dist-packages (from seaborn) (3.8.0)\n",
            "Requirement already satisfied: contourpy>=1.0.1 in /usr/local/lib/python3.10/dist-packages (from matplotlib!=3.6.1,>=3.4->seaborn) (1.3.1)\n",
            "Requirement already satisfied: cycler>=0.10 in /usr/local/lib/python3.10/dist-packages (from matplotlib!=3.6.1,>=3.4->seaborn) (0.12.1)\n",
            "Requirement already satisfied: fonttools>=4.22.0 in /usr/local/lib/python3.10/dist-packages (from matplotlib!=3.6.1,>=3.4->seaborn) (4.55.3)\n",
            "Requirement already satisfied: kiwisolver>=1.0.1 in /usr/local/lib/python3.10/dist-packages (from matplotlib!=3.6.1,>=3.4->seaborn) (1.4.7)\n",
            "Requirement already satisfied: packaging>=20.0 in /usr/local/lib/python3.10/dist-packages (from matplotlib!=3.6.1,>=3.4->seaborn) (24.2)\n",
            "Requirement already satisfied: pillow>=6.2.0 in /usr/local/lib/python3.10/dist-packages (from matplotlib!=3.6.1,>=3.4->seaborn) (11.0.0)\n",
            "Requirement already satisfied: pyparsing>=2.3.1 in /usr/local/lib/python3.10/dist-packages (from matplotlib!=3.6.1,>=3.4->seaborn) (3.2.0)\n",
            "Requirement already satisfied: six>=1.5 in /usr/local/lib/python3.10/dist-packages (from python-dateutil>=2.8.2->pandas) (1.17.0)\n"
          ]
        }
      ],
      "source": [
        "!pip install pandas scikit-learn seaborn scipy"
      ]
    },
    {
      "cell_type": "code",
      "source": [
        "import pandas as pd\n",
        "import numpy as np\n",
        "import matplotlib.pyplot as plt\n",
        "import seaborn as sns\n",
        "\n",
        "from sklearn.preprocessing import MinMaxScaler\n",
        "from sklearn.model_selection import train_test_split\n",
        "from sklearn.preprocessing import StandardScaler\n",
        "from sklearn.linear_model import LogisticRegression\n",
        "from sklearn.metrics import classification_report, confusion_matrix, accuracy_score\n",
        "\n",
        "# Загрузка набора данных\n",
        "df = pd.read_csv('/content/heart.csv')\n",
        "\n",
        "df['CHOLNORM'] = np.where(df['CHOL_50'] >= 250, 1, 0)\n",
        "df.CHOLNORM = df.CHOLNORM.astype('category')\n",
        "\n",
        "y = df['CHOLNORM'] # выбираем целевую переменную (категориальную)\n",
        "X = df.drop('CHOLNORM', axis=1) # переменные для проверки влияния\n",
        "\n",
        "\n",
        "X = X.drop('CHOL_50', axis=1)\n",
        "df.drop('CHOL_50', axis=1).info()"
      ],
      "metadata": {
        "colab": {
          "base_uri": "https://localhost:8080/"
        },
        "id": "pBy0VlMxwXWO",
        "outputId": "3a50a0d5-605d-42ce-b07f-10c39b6e6701"
      },
      "execution_count": 80,
      "outputs": [
        {
          "output_type": "stream",
          "name": "stdout",
          "text": [
            "<class 'pandas.core.frame.DataFrame'>\n",
            "RangeIndex: 200 entries, 0 to 199\n",
            "Data columns (total 16 columns):\n",
            " #   Column     Non-Null Count  Dtype   \n",
            "---  ------     --------------  -----   \n",
            " 0   AGE_50     200 non-null    int64   \n",
            " 1   MD_50      200 non-null    int64   \n",
            " 2   SBP_50     200 non-null    int64   \n",
            " 3   DBP_50     200 non-null    int64   \n",
            " 4   HT_50      200 non-null    int64   \n",
            " 5   WT_50      200 non-null    int64   \n",
            " 6   SES        200 non-null    int64   \n",
            " 7   CL_STATUS  200 non-null    int64   \n",
            " 8   MD_62      200 non-null    int64   \n",
            " 9   SBP_62     200 non-null    int64   \n",
            " 10  DBP_62     200 non-null    int64   \n",
            " 11  CHOL_62    200 non-null    int64   \n",
            " 12  WT_62      200 non-null    int64   \n",
            " 13  IHD_DX     200 non-null    int64   \n",
            " 14  DEATH      200 non-null    int64   \n",
            " 15  CHOLNORM   200 non-null    category\n",
            "dtypes: category(1), int64(15)\n",
            "memory usage: 23.9 KB\n"
          ]
        }
      ]
    },
    {
      "cell_type": "code",
      "source": [
        "# Создаем копию данных\n",
        "X_processed = X.copy()\n",
        "category_columns: list[str] = X.select_dtypes(include=['category']).columns\n",
        "\n",
        "# Применяем One-Hot Encoding\n",
        "X = pd.get_dummies(X, columns=category_columns,drop_first=True)\n",
        ""
      ],
      "metadata": {
        "id": "eHzSKKPxzE8b"
      },
      "execution_count": 81,
      "outputs": []
    },
    {
      "cell_type": "code",
      "source": [
        "X_processed.info()"
      ],
      "metadata": {
        "colab": {
          "base_uri": "https://localhost:8080/"
        },
        "id": "7abUjQaazgtu",
        "outputId": "3100b14f-4d97-4cbf-a818-c6e68d88a287"
      },
      "execution_count": 82,
      "outputs": [
        {
          "output_type": "stream",
          "name": "stdout",
          "text": [
            "<class 'pandas.core.frame.DataFrame'>\n",
            "RangeIndex: 200 entries, 0 to 199\n",
            "Data columns (total 15 columns):\n",
            " #   Column     Non-Null Count  Dtype\n",
            "---  ------     --------------  -----\n",
            " 0   AGE_50     200 non-null    int64\n",
            " 1   MD_50      200 non-null    int64\n",
            " 2   SBP_50     200 non-null    int64\n",
            " 3   DBP_50     200 non-null    int64\n",
            " 4   HT_50      200 non-null    int64\n",
            " 5   WT_50      200 non-null    int64\n",
            " 6   SES        200 non-null    int64\n",
            " 7   CL_STATUS  200 non-null    int64\n",
            " 8   MD_62      200 non-null    int64\n",
            " 9   SBP_62     200 non-null    int64\n",
            " 10  DBP_62     200 non-null    int64\n",
            " 11  CHOL_62    200 non-null    int64\n",
            " 12  WT_62      200 non-null    int64\n",
            " 13  IHD_DX     200 non-null    int64\n",
            " 14  DEATH      200 non-null    int64\n",
            "dtypes: int64(15)\n",
            "memory usage: 23.6 KB\n"
          ]
        }
      ]
    },
    {
      "cell_type": "code",
      "source": [
        "y.value_counts()"
      ],
      "metadata": {
        "colab": {
          "base_uri": "https://localhost:8080/",
          "height": 178
        },
        "id": "9yXCRWPgzttb",
        "outputId": "ae86065a-c2e5-4d13-9d44-eaa654f00130"
      },
      "execution_count": 83,
      "outputs": [
        {
          "output_type": "execute_result",
          "data": {
            "text/plain": [
              "CHOLNORM\n",
              "1    106\n",
              "0     94\n",
              "Name: count, dtype: int64"
            ],
            "text/html": [
              "<div>\n",
              "<style scoped>\n",
              "    .dataframe tbody tr th:only-of-type {\n",
              "        vertical-align: middle;\n",
              "    }\n",
              "\n",
              "    .dataframe tbody tr th {\n",
              "        vertical-align: top;\n",
              "    }\n",
              "\n",
              "    .dataframe thead th {\n",
              "        text-align: right;\n",
              "    }\n",
              "</style>\n",
              "<table border=\"1\" class=\"dataframe\">\n",
              "  <thead>\n",
              "    <tr style=\"text-align: right;\">\n",
              "      <th></th>\n",
              "      <th>count</th>\n",
              "    </tr>\n",
              "    <tr>\n",
              "      <th>CHOLNORM</th>\n",
              "      <th></th>\n",
              "    </tr>\n",
              "  </thead>\n",
              "  <tbody>\n",
              "    <tr>\n",
              "      <th>1</th>\n",
              "      <td>106</td>\n",
              "    </tr>\n",
              "    <tr>\n",
              "      <th>0</th>\n",
              "      <td>94</td>\n",
              "    </tr>\n",
              "  </tbody>\n",
              "</table>\n",
              "</div><br><label><b>dtype:</b> int64</label>"
            ]
          },
          "metadata": {},
          "execution_count": 83
        }
      ]
    },
    {
      "cell_type": "code",
      "source": [
        "from sklearn.utils import resample\n",
        "\n",
        "# Объединяем X и y для удобства\n",
        "data = pd.concat([X, y], axis=1)\n",
        "\n",
        "# Разделяем на классы\n",
        "minority = data[data['CHOLNORM'] == 0]\n",
        "majority = data[data['CHOLNORM'] == 1]\n",
        "\n",
        "# Уменьшаем количество экземпляров класса 1\n",
        "minority_downsampled = resample(minority,\n",
        "                                replace=False,\n",
        "                                n_samples=int(len(majority)*0.1),\n",
        "                                random_state=52)\n",
        "\n",
        "# Объединяем обратно\n",
        "data_disbalanced = pd.concat([majority, minority_downsampled])\n",
        "\n",
        "# Новые X и y\n",
        "X_disbalanced = data_disbalanced.drop('CHOLNORM', axis=1)\n",
        "y_disbalanced = data_disbalanced['CHOLNORM']"
      ],
      "metadata": {
        "id": "MgKWiuZf0doi"
      },
      "execution_count": 84,
      "outputs": []
    },
    {
      "cell_type": "code",
      "source": [
        "print(y_disbalanced.value_counts())"
      ],
      "metadata": {
        "colab": {
          "base_uri": "https://localhost:8080/"
        },
        "id": "hcPhDTNf0pXx",
        "outputId": "77314d35-d69d-4f5f-b42f-c138e62b0bd2"
      },
      "execution_count": 85,
      "outputs": [
        {
          "output_type": "stream",
          "name": "stdout",
          "text": [
            "CHOLNORM\n",
            "1    106\n",
            "0     10\n",
            "Name: count, dtype: int64\n"
          ]
        }
      ]
    },
    {
      "cell_type": "code",
      "source": [
        "from sklearn.model_selection import cross_val_score\n",
        "from sklearn.linear_model import LogisticRegression\n",
        "\n",
        "# Разделяем данные на обучающую и тестовую выборки\n",
        "X_train, X_test, y_train, y_test = train_test_split(X_disbalanced, y_disbalanced, test_size=0.3, random_state=52)\n",
        "\n",
        "# Обучаем модель\n",
        "model = LogisticRegression(penalty=None, solver='saga', max_iter=10000)\n",
        "model.fit(X_train, y_train)\n",
        "\n",
        "# Предсказания\n",
        "y_pred = model.predict(X_test)"
      ],
      "metadata": {
        "id": "mf9vLL4y04nv"
      },
      "execution_count": 86,
      "outputs": []
    },
    {
      "cell_type": "code",
      "source": [
        "from sklearn.metrics import classification_report, accuracy_score\n",
        "\n",
        "print(\"Accuracy:\", accuracy_score(y_test, y_pred))\n",
        "print(\"\\nClassification Report:\\n\", classification_report(y_test, y_pred))"
      ],
      "metadata": {
        "colab": {
          "base_uri": "https://localhost:8080/"
        },
        "id": "_lbf4KFC1ON3",
        "outputId": "a29f38fd-8fff-48d5-8a02-f578f6246887"
      },
      "execution_count": 87,
      "outputs": [
        {
          "output_type": "stream",
          "name": "stdout",
          "text": [
            "Accuracy: 0.9428571428571428\n",
            "\n",
            "Classification Report:\n",
            "               precision    recall  f1-score   support\n",
            "\n",
            "           0       0.00      0.00      0.00         1\n",
            "           1       0.97      0.97      0.97        34\n",
            "\n",
            "    accuracy                           0.94        35\n",
            "   macro avg       0.49      0.49      0.49        35\n",
            "weighted avg       0.94      0.94      0.94        35\n",
            "\n"
          ]
        }
      ]
    },
    {
      "cell_type": "code",
      "source": [
        "unique, counts = np.unique(y_pred, return_counts=True) # получаем уникальные значения и их количество в предсказанных данных\n",
        "\n",
        "dict(zip(unique, counts)) # данная ситуация называется переобучением. Модель очень хорошо обучилась на 1, настолько, что не может предсказать 0\n",
        ""
      ],
      "metadata": {
        "colab": {
          "base_uri": "https://localhost:8080/"
        },
        "id": "T2d9lMmy2Ku1",
        "outputId": "ee7d31d9-232c-4efe-febe-94700986438b"
      },
      "execution_count": 65,
      "outputs": [
        {
          "output_type": "execute_result",
          "data": {
            "text/plain": [
              "{0: 1, 1: 36}"
            ]
          },
          "metadata": {},
          "execution_count": 65
        }
      ]
    },
    {
      "cell_type": "code",
      "source": [
        "# Уменьшаем количество экземпляров класса 0\n",
        "majority_downsampled = resample(majority,\n",
        "                                replace=False,\n",
        "                                n_samples=len(minority),\n",
        "                                random_state=52)\n",
        "\n",
        "# Объединяем обратно\n",
        "data_balanced = pd.concat([majority_downsampled, minority])\n",
        "\n",
        "# Новые X и y\n",
        "X_balanced = data_balanced.drop('CHOLNORM', axis=1)\n",
        "y_balanced = data_balanced['CHOLNORM']"
      ],
      "metadata": {
        "id": "Ndy5d6pD2oZL"
      },
      "execution_count": 88,
      "outputs": []
    },
    {
      "cell_type": "code",
      "source": [
        "print(y_balanced.value_counts())"
      ],
      "metadata": {
        "colab": {
          "base_uri": "https://localhost:8080/"
        },
        "id": "5C56PQTE3qHc",
        "outputId": "2092c3fc-ecce-4b14-e628-61108d78d243"
      },
      "execution_count": 89,
      "outputs": [
        {
          "output_type": "stream",
          "name": "stdout",
          "text": [
            "CHOLNORM\n",
            "0    94\n",
            "1    94\n",
            "Name: count, dtype: int64\n"
          ]
        }
      ]
    },
    {
      "cell_type": "code",
      "source": [
        "# Разделяем данные\n",
        "X_train_bal, X_test_bal, y_train_bal, y_test_bal = train_test_split(X_balanced, y_balanced, test_size=0.3, random_state=52)\n",
        "\n",
        "# Обучаем модель\n",
        "model_balanced = LogisticRegression(penalty=None, solver='saga', max_iter=10000)\n",
        "model_balanced.fit(X_train_bal, y_train_bal)\n",
        "\n",
        "# Предсказания\n",
        "y_pred_bal = model_balanced.predict(X_test_bal)"
      ],
      "metadata": {
        "id": "502wqwiP6x--"
      },
      "execution_count": 90,
      "outputs": []
    },
    {
      "cell_type": "code",
      "source": [
        "print(\"Accuracy:\", accuracy_score(y_test_bal, y_pred_bal))\n",
        "print(\"\\nClassification Report:\\n\", classification_report(y_test_bal, y_pred_bal))"
      ],
      "metadata": {
        "colab": {
          "base_uri": "https://localhost:8080/"
        },
        "id": "ENOeJOSV61Gv",
        "outputId": "cf475c77-f24e-41b8-b6d2-f41b3bd444e2"
      },
      "execution_count": 91,
      "outputs": [
        {
          "output_type": "stream",
          "name": "stdout",
          "text": [
            "Accuracy: 0.6491228070175439\n",
            "\n",
            "Classification Report:\n",
            "               precision    recall  f1-score   support\n",
            "\n",
            "           0       0.65      0.61      0.63        28\n",
            "           1       0.65      0.69      0.67        29\n",
            "\n",
            "    accuracy                           0.65        57\n",
            "   macro avg       0.65      0.65      0.65        57\n",
            "weighted avg       0.65      0.65      0.65        57\n",
            "\n"
          ]
        }
      ]
    },
    {
      "cell_type": "code",
      "source": [
        "unique, counts = np.unique(y_pred_bal, return_counts=True) # получаем уникальные значения и их количество в предсказанных данных\n",
        "\n",
        "dict(zip(unique, counts)) # Текущая модель показывает неочень результаты. Попробуем улучшить\n",
        ""
      ],
      "metadata": {
        "colab": {
          "base_uri": "https://localhost:8080/"
        },
        "id": "0xfqBbco67nl",
        "outputId": "cbdb4709-97f5-472a-986e-3fd77d8ebc05"
      },
      "execution_count": 92,
      "outputs": [
        {
          "output_type": "execute_result",
          "data": {
            "text/plain": [
              "{0: 26, 1: 31}"
            ]
          },
          "metadata": {},
          "execution_count": 92
        }
      ]
    },
    {
      "cell_type": "code",
      "source": [
        "# Выбираем числовые признаки\n",
        "numeric_features = X_balanced.select_dtypes(include=['int64']).columns.tolist()\n",
        "\n",
        "# Инициализируем scaler\n",
        "scaler = MinMaxScaler()\n",
        "\n",
        "# Применяем нормализацию\n",
        "X_balanced[numeric_features] = scaler.fit_transform(X_balanced[numeric_features])\n",
        ""
      ],
      "metadata": {
        "id": "ac7XHhIV7ING"
      },
      "execution_count": 93,
      "outputs": []
    },
    {
      "cell_type": "code",
      "source": [
        "# Разделяем данные\n",
        "X_train_bal, X_test_bal, y_train_bal, y_test_bal = train_test_split(X_balanced, y_balanced, test_size=0.3, random_state=52)\n",
        "\n",
        "# Обучаем модель\n",
        "model_balanced = LogisticRegression(penalty=None, solver='saga', max_iter=10000)\n",
        "model_balanced.fit(X_train_bal, y_train_bal)\n",
        "\n",
        "# Предсказания\n",
        "y_pred_bal = model_balanced.predict(X_test_bal)"
      ],
      "metadata": {
        "id": "OOMBkzsF7Ops"
      },
      "execution_count": 94,
      "outputs": []
    },
    {
      "cell_type": "code",
      "source": [
        "print(\"Accuracy:\", accuracy_score(y_test_bal, y_pred_bal))\n",
        "print(\"\\nClassification Report:\\n\", classification_report(y_test_bal, y_pred_bal)) # ниче не поменялось -_-"
      ],
      "metadata": {
        "colab": {
          "base_uri": "https://localhost:8080/"
        },
        "id": "qhlzZz3X7Syh",
        "outputId": "14c385bf-1133-41df-bcb1-95f092751d83"
      },
      "execution_count": 95,
      "outputs": [
        {
          "output_type": "stream",
          "name": "stdout",
          "text": [
            "Accuracy: 0.6491228070175439\n",
            "\n",
            "Classification Report:\n",
            "               precision    recall  f1-score   support\n",
            "\n",
            "           0       0.65      0.61      0.63        28\n",
            "           1       0.65      0.69      0.67        29\n",
            "\n",
            "    accuracy                           0.65        57\n",
            "   macro avg       0.65      0.65      0.65        57\n",
            "weighted avg       0.65      0.65      0.65        57\n",
            "\n"
          ]
        }
      ]
    },
    {
      "cell_type": "code",
      "source": [
        "unique, counts = np.unique(y_pred_bal, return_counts=True) # получаем уникальные значения и их количество в предсказанных данных\n",
        "\n",
        "dict(zip(unique, counts)) # Текущая модель показывает неплохие результаты. Попробуем улучшить"
      ],
      "metadata": {
        "colab": {
          "base_uri": "https://localhost:8080/"
        },
        "id": "zEtEdaTu77XP",
        "outputId": "0b78248d-ab90-4041-850b-d8868e012702"
      },
      "execution_count": 96,
      "outputs": [
        {
          "output_type": "execute_result",
          "data": {
            "text/plain": [
              "{0: 26, 1: 31}"
            ]
          },
          "metadata": {},
          "execution_count": 96
        }
      ]
    },
    {
      "cell_type": "code",
      "source": [
        "# Разделяем данные\n",
        "X_train_bal, X_test_bal, y_train_bal, y_test_bal = train_test_split(X_balanced, y_balanced, test_size=0.3, random_state=52)\n",
        "\n",
        "# Обучаем модель\n",
        "model_balanced = LogisticRegression(penalty=None, solver='saga', max_iter=10000)\n",
        "model_balanced.fit(X_train_bal, y_train_bal)\n",
        "\n",
        "# Предсказания\n",
        "y_pred_bal = model_balanced.predict(X_test_bal)"
      ],
      "metadata": {
        "id": "ZECDpGbVBROs"
      },
      "execution_count": 97,
      "outputs": []
    },
    {
      "cell_type": "code",
      "source": [
        "from sklearn.metrics import classification_report, confusion_matrix, accuracy_score, precision_score, recall_score, f1_score, roc_auc_score\n",
        "# Вычисляем матрицу ошибок (TP, FP, TN, FN)\n",
        "conf_matrix = confusion_matrix(y_test_bal, y_pred_bal)\n",
        "tn, fp, fn, tp = conf_matrix.ravel()\n",
        "\n",
        "# Рассчитываем метрики\n",
        "accuracy = accuracy_score(y_test_bal, y_pred_bal)\n",
        "precision = precision_score(y_test_bal, y_pred_bal)\n",
        "recall = recall_score(y_test_bal, y_pred_bal)\n",
        "f1 = f1_score(y_test_bal, y_pred_bal)\n",
        "roc_auc = roc_auc_score(y_test_bal, y_pred_bal)\n",
        "\n",
        "# Генерируем classification_report\n",
        "class_report = classification_report(y_test_bal, y_pred_bal, output_dict=True)\n",
        "\n",
        "# Формируем результаты для наглядного вывода\n",
        "results = {\n",
        "    \"True Negatives (TN)\": tn,\n",
        "    \"False Positives (FP)\": fp,\n",
        "    \"False Negatives (FN)\": fn,\n",
        "    \"True Positives (TP)\": tp,\n",
        "    \"Accuracy\": accuracy,\n",
        "    \"Precision\": precision,\n",
        "    \"Recall\": recall,\n",
        "    \"F1-score\": f1,\n",
        "    \"ROC-AUC\": roc_auc,\n",
        "}\n",
        "\n",
        "# Округляем все значения в словаре до двух знаков после запятой и возвращаем в виде dict.items()\n",
        "rounded_items = {k: round(v, 2) for k, v in results.items()}"
      ],
      "metadata": {
        "id": "WUa1wpyoBh5o"
      },
      "execution_count": 98,
      "outputs": []
    },
    {
      "cell_type": "code",
      "source": [
        "print(classification_report(y_test_bal, y_pred_bal))"
      ],
      "metadata": {
        "colab": {
          "base_uri": "https://localhost:8080/"
        },
        "id": "EeH5dKGyBuLs",
        "outputId": "345f5e18-1825-4750-a31e-342c7d690b05"
      },
      "execution_count": 99,
      "outputs": [
        {
          "output_type": "stream",
          "name": "stdout",
          "text": [
            "              precision    recall  f1-score   support\n",
            "\n",
            "           0       0.65      0.61      0.63        28\n",
            "           1       0.65      0.69      0.67        29\n",
            "\n",
            "    accuracy                           0.65        57\n",
            "   macro avg       0.65      0.65      0.65        57\n",
            "weighted avg       0.65      0.65      0.65        57\n",
            "\n"
          ]
        }
      ]
    },
    {
      "cell_type": "code",
      "source": [
        "rounded_items"
      ],
      "metadata": {
        "colab": {
          "base_uri": "https://localhost:8080/"
        },
        "id": "H_xHQZ3UB-E2",
        "outputId": "d8e18224-d387-4163-ccff-25cf89bfc31c"
      },
      "execution_count": 100,
      "outputs": [
        {
          "output_type": "execute_result",
          "data": {
            "text/plain": [
              "{'True Negatives (TN)': 17,\n",
              " 'False Positives (FP)': 11,\n",
              " 'False Negatives (FN)': 9,\n",
              " 'True Positives (TP)': 20,\n",
              " 'Accuracy': 0.65,\n",
              " 'Precision': 0.65,\n",
              " 'Recall': 0.69,\n",
              " 'F1-score': 0.67,\n",
              " 'ROC-AUC': 0.65}"
            ]
          },
          "metadata": {},
          "execution_count": 100
        }
      ]
    },
    {
      "cell_type": "code",
      "source": [
        "from sklearn.metrics import roc_curve, auc\n",
        "\n",
        "Y_test_prob = model.predict_proba(X_test)[:, 1]\n",
        "\n",
        "# Расчет ROC-кривой\n",
        "fpr, tpr, thresholds = roc_curve(y_test_bal, y_pred_bal)\n",
        "roc_auc = auc(fpr, tpr)\n",
        "\n",
        "# Построение графика\n",
        "plt.figure(figsize=(8,6))\n",
        "plt.plot(fpr, tpr, label=f'ROC curve (area = {roc_auc:.2f})')\n",
        "plt.plot([0,1], [0,1], 'k--')\n",
        "plt.xlabel('False Positive Rate')\n",
        "plt.ylabel('True Positive Rate')\n",
        "plt.title('ROC-кривая')\n",
        "plt.legend(loc='lower right')\n",
        "plt.show()"
      ],
      "metadata": {
        "colab": {
          "base_uri": "https://localhost:8080/",
          "height": 564
        },
        "id": "IYjSjrYVCFnG",
        "outputId": "583a6236-e771-422a-a4ce-a9a464dc9a68"
      },
      "execution_count": 101,
      "outputs": [
        {
          "output_type": "display_data",
          "data": {
            "text/plain": [
              "<Figure size 800x600 with 1 Axes>"
            ],
            "image/png": "[encoded data removed]"
          },
          "metadata": {}
        }
      ]
    },
    {
      "cell_type": "markdown",
      "source": [
        "⏰ Общая точность модели составила 0.65, значит, модель 65% наблюдений классифицировала верно. Результат неплохой. 20 раз модель правильно предположила, что холестерин завышен и 17 раз определила верно, что холестерин точно норм. Ошибочно отнесла  11 с норм хол к повышенным хол и пропустила 9 человек. Tочность классификации составкила 0.65, значит, модель 65% людей, которые были с завышенным хол, классифицировала как больных. Полнота классификации равна 0.69, то есть модель нашла и отнесла к классу 69% от всех завыш. Гармоническое среднее между полнотой и точностью классификации - 0.67, это говорит о том, что метрики, в целом, сбалансированы. ROC-AUC равно 0.65, модель классифицирует лучше случайного угадывания, но имеет возможности для улучшения."
      ],
      "metadata": {
        "id": "DPtJAbBqCbs1"
      }
    },
    {
      "cell_type": "code",
      "source": [
        "y = df['CHOL_50']\n",
        "\n",
        "X = df.drop(['CHOL_50', 'CHOLNORM'], axis=1)"
      ],
      "metadata": {
        "id": "Nykk5UeOJAoN"
      },
      "execution_count": 102,
      "outputs": []
    },
    {
      "cell_type": "code",
      "source": [
        "# Создаем копию данных\n",
        "category_columns: list[str] = X.select_dtypes(include=['category']).columns # собираем колонки помеченные как category\n",
        "\n",
        "# Применяем One-Hot Encoding\n",
        "X = pd.get_dummies(X, columns=category_columns,drop_first=True)\n",
        "\n",
        ""
      ],
      "metadata": {
        "id": "-lfSprNLJOnU"
      },
      "execution_count": 109,
      "outputs": []
    },
    {
      "cell_type": "code",
      "source": [
        "X"
      ],
      "metadata": {
        "colab": {
          "base_uri": "https://localhost:8080/",
          "height": 424
        },
        "id": "83zeTcTaJRhw",
        "outputId": "9048ff07-3d21-472a-ab3a-07439e8c7a61"
      },
      "execution_count": 110,
      "outputs": [
        {
          "output_type": "execute_result",
          "data": {
            "text/plain": [
              "     AGE_50  MD_50  SBP_50  DBP_50  HT_50  WT_50  SES  CL_STATUS  MD_62  \\\n",
              "0        42      1     110      65     64    147    2          8      4   \n",
              "1        53      1     130      72     69    167    1          6      2   \n",
              "2        53      2     120      90     70    222    4          8      1   \n",
              "3        48      4     120      80     72    229    4          8      2   \n",
              "4        53      3     118      74     66    134    3          8      5   \n",
              "..      ...    ...     ...     ...    ...    ...  ...        ...    ...   \n",
              "195      50      1     115      80     66    148    2          8      1   \n",
              "196      23      1     110      70     69    137    3          8      2   \n",
              "197      20      3     130      80     66    150    5          0      1   \n",
              "198      46      3     140      84     66    138    4          6      2   \n",
              "199      36      1     100      70     70    157    3          8      3   \n",
              "\n",
              "     SBP_62  DBP_62  CHOL_62  WT_62  IHD_DX  DEATH  \n",
              "0       120      78      271    146       2      1  \n",
              "1       122      68      250    165       9      1  \n",
              "2       132      90      304    223       2      1  \n",
              "3       118      68      209    227       3      1  \n",
              "4       118      56      261    138       2      1  \n",
              "..      ...     ...      ...    ...     ...    ...  \n",
              "195     115      65      273    152       0      0  \n",
              "196     112      76      198    153       0      0  \n",
              "197     130      85      274    158       0      0  \n",
              "198     148      88      160    157       0      0  \n",
              "199     120      86      251    152       0      0  \n",
              "\n",
              "[200 rows x 15 columns]"
            ],
            "text/html": [
              "\n",
              "  <div id=\"df-2ff80f6c-2e43-4b3a-b7b4-26a3cc2dbfc1\" class=\"colab-df-container\">\n",
              "    <div>\n",
              "<style scoped>\n",
              "    .dataframe tbody tr th:only-of-type {\n",
              "        vertical-align: middle;\n",
              "    }\n",
              "\n",
              "    .dataframe tbody tr th {\n",
              "        vertical-align: top;\n",
              "    }\n",
              "\n",
              "    .dataframe thead th {\n",
              "        text-align: right;\n",
              "    }\n",
              "</style>\n",
              "<table border=\"1\" class=\"dataframe\">\n",
              "  <thead>\n",
              "    <tr style=\"text-align: right;\">\n",
              "      <th></th>\n",
              "      <th>AGE_50</th>\n",
              "      <th>MD_50</th>\n",
              "      <th>SBP_50</th>\n",
              "      <th>DBP_50</th>\n",
              "      <th>HT_50</th>\n",
              "      <th>WT_50</th>\n",
              "      <th>SES</th>\n",
              "      <th>CL_STATUS</th>\n",
              "      <th>MD_62</th>\n",
              "      <th>SBP_62</th>\n",
              "      <th>DBP_62</th>\n",
              "      <th>CHOL_62</th>\n",
              "      <th>WT_62</th>\n",
              "      <th>IHD_DX</th>\n",
              "      <th>DEATH</th>\n",
              "    </tr>\n",
              "  </thead>\n",
              "  <tbody>\n",
              "    <tr>\n",
              "      <th>0</th>\n",
              "      <td>42</td>\n",
              "      <td>1</td>\n",
              "      <td>110</td>\n",
              "      <td>65</td>\n",
              "      <td>64</td>\n",
              "      <td>147</td>\n",
              "      <td>2</td>\n",
              "      <td>8</td>\n",
              "      <td>4</td>\n",
              "      <td>120</td>\n",
              "      <td>78</td>\n",
              "      <td>271</td>\n",
              "      <td>146</td>\n",
              "      <td>2</td>\n",
              "      <td>1</td>\n",
              "    </tr>\n",
              "    <tr>\n",
              "      <th>1</th>\n",
              "      <td>53</td>\n",
              "      <td>1</td>\n",
              "      <td>130</td>\n",
              "      <td>72</td>\n",
              "      <td>69</td>\n",
              "      <td>167</td>\n",
              "      <td>1</td>\n",
              "      <td>6</td>\n",
              "      <td>2</td>\n",
              "      <td>122</td>\n",
              "      <td>68</td>\n",
              "      <td>250</td>\n",
              "      <td>165</td>\n",
              "      <td>9</td>\n",
              "      <td>1</td>\n",
              "    </tr>\n",
              "    <tr>\n",
              "      <th>2</th>\n",
              "      <td>53</td>\n",
              "      <td>2</td>\n",
              "      <td>120</td>\n",
              "      <td>90</td>\n",
              "      <td>70</td>\n",
              "      <td>222</td>\n",
              "      <td>4</td>\n",
              "      <td>8</td>\n",
              "      <td>1</td>\n",
              "      <td>132</td>\n",
              "      <td>90</td>\n",
              "      <td>304</td>\n",
              "      <td>223</td>\n",
              "      <td>2</td>\n",
              "      <td>1</td>\n",
              "    </tr>\n",
              "    <tr>\n",
              "      <th>3</th>\n",
              "      <td>48</td>\n",
              "      <td>4</td>\n",
              "      <td>120</td>\n",
              "      <td>80</td>\n",
              "      <td>72</td>\n",
              "      <td>229</td>\n",
              "      <td>4</td>\n",
              "      <td>8</td>\n",
              "      <td>2</td>\n",
              "      <td>118</td>\n",
              "      <td>68</td>\n",
              "      <td>209</td>\n",
              "      <td>227</td>\n",
              "      <td>3</td>\n",
              "      <td>1</td>\n",
              "    </tr>\n",
              "    <tr>\n",
              "      <th>4</th>\n",
              "      <td>53</td>\n",
              "      <td>3</td>\n",
              "      <td>118</td>\n",
              "      <td>74</td>\n",
              "      <td>66</td>\n",
              "      <td>134</td>\n",
              "      <td>3</td>\n",
              "      <td>8</td>\n",
              "      <td>5</td>\n",
              "      <td>118</td>\n",
              "      <td>56</td>\n",
              "      <td>261</td>\n",
              "      <td>138</td>\n",
              "      <td>2</td>\n",
              "      <td>1</td>\n",
              "    </tr>\n",
              "    <tr>\n",
              "      <th>...</th>\n",
              "      <td>...</td>\n",
              "      <td>...</td>\n",
              "      <td>...</td>\n",
              "      <td>...</td>\n",
              "      <td>...</td>\n",
              "      <td>...</td>\n",
              "      <td>...</td>\n",
              "      <td>...</td>\n",
              "      <td>...</td>\n",
              "      <td>...</td>\n",
              "      <td>...</td>\n",
              "      <td>...</td>\n",
              "      <td>...</td>\n",
              "      <td>...</td>\n",
              "      <td>...</td>\n",
              "    </tr>\n",
              "    <tr>\n",
              "      <th>195</th>\n",
              "      <td>50</td>\n",
              "      <td>1</td>\n",
              "      <td>115</td>\n",
              "      <td>80</td>\n",
              "      <td>66</td>\n",
              "      <td>148</td>\n",
              "      <td>2</td>\n",
              "      <td>8</td>\n",
              "      <td>1</td>\n",
              "      <td>115</td>\n",
              "      <td>65</td>\n",
              "      <td>273</td>\n",
              "      <td>152</td>\n",
              "      <td>0</td>\n",
              "      <td>0</td>\n",
              "    </tr>\n",
              "    <tr>\n",
              "      <th>196</th>\n",
              "      <td>23</td>\n",
              "      <td>1</td>\n",
              "      <td>110</td>\n",
              "      <td>70</td>\n",
              "      <td>69</td>\n",
              "      <td>137</td>\n",
              "      <td>3</td>\n",
              "      <td>8</td>\n",
              "      <td>2</td>\n",
              "      <td>112</td>\n",
              "      <td>76</td>\n",
              "      <td>198</td>\n",
              "      <td>153</td>\n",
              "      <td>0</td>\n",
              "      <td>0</td>\n",
              "    </tr>\n",
              "    <tr>\n",
              "      <th>197</th>\n",
              "      <td>20</td>\n",
              "      <td>3</td>\n",
              "      <td>130</td>\n",
              "      <td>80</td>\n",
              "      <td>66</td>\n",
              "      <td>150</td>\n",
              "      <td>5</td>\n",
              "      <td>0</td>\n",
              "      <td>1</td>\n",
              "      <td>130</td>\n",
              "      <td>85</td>\n",
              "      <td>274</td>\n",
              "      <td>158</td>\n",
              "      <td>0</td>\n",
              "      <td>0</td>\n",
              "    </tr>\n",
              "    <tr>\n",
              "      <th>198</th>\n",
              "      <td>46</td>\n",
              "      <td>3</td>\n",
              "      <td>140</td>\n",
              "      <td>84</td>\n",
              "      <td>66</td>\n",
              "      <td>138</td>\n",
              "      <td>4</td>\n",
              "      <td>6</td>\n",
              "      <td>2</td>\n",
              "      <td>148</td>\n",
              "      <td>88</td>\n",
              "      <td>160</td>\n",
              "      <td>157</td>\n",
              "      <td>0</td>\n",
              "      <td>0</td>\n",
              "    </tr>\n",
              "    <tr>\n",
              "      <th>199</th>\n",
              "      <td>36</td>\n",
              "      <td>1</td>\n",
              "      <td>100</td>\n",
              "      <td>70</td>\n",
              "      <td>70</td>\n",
              "      <td>157</td>\n",
              "      <td>3</td>\n",
              "      <td>8</td>\n",
              "      <td>3</td>\n",
              "      <td>120</td>\n",
              "      <td>86</td>\n",
              "      <td>251</td>\n",
              "      <td>152</td>\n",
              "      <td>0</td>\n",
              "      <td>0</td>\n",
              "    </tr>\n",
              "  </tbody>\n",
              "</table>\n",
              "<p>200 rows × 15 columns</p>\n",
              "</div>\n",
              "    <div class=\"colab-df-buttons\">\n",
              "\n",
              "  <div class=\"colab-df-container\">\n",
              "    <button class=\"colab-df-convert\" onclick=\"convertToInteractive('df-2ff80f6c-2e43-4b3a-b7b4-26a3cc2dbfc1')\"\n",
              "            title=\"Convert this dataframe to an interactive table.\"\n",
              "            style=\"display:none;\">\n",
              "\n",
              "  <svg xmlns=\"http://www.w3.org/2000/svg\" height=\"24px\" viewBox=\"0 -960 960 960\">\n",
              "    <path d=\"M120-120v-720h720v720H120Zm60-500h600v-160H180v160Zm220 220h160v-160H400v160Zm0 220h160v-160H400v160ZM180-400h160v-160H180v160Zm440 0h160v-160H620v160ZM180-180h160v-160H180v160Zm440 0h160v-160H620v160Z\"/>\n",
              "  </svg>\n",
              "    </button>\n",
              "\n",
              "  <style>\n",
              "    .colab-df-container {\n",
              "      display:flex;\n",
              "      gap: 12px;\n",
              "    }\n",
              "\n",
              "    .colab-df-convert {\n",
              "      background-color: #E8F0FE;\n",
              "      border: none;\n",
              "      border-radius: 50%;\n",
              "      cursor: pointer;\n",
              "      display: none;\n",
              "      fill: #1967D2;\n",
              "      height: 32px;\n",
              "      padding: 0 0 0 0;\n",
              "      width: 32px;\n",
              "    }\n",
              "\n",
              "    .colab-df-convert:hover {\n",
              "      background-color: #E2EBFA;\n",
              "      box-shadow: 0px 1px 2px rgba(60, 64, 67, 0.3), 0px 1px 3px 1px rgba(60, 64, 67, 0.15);\n",
              "      fill: #174EA6;\n",
              "    }\n",
              "\n",
              "    .colab-df-buttons div {\n",
              "      margin-bottom: 4px;\n",
              "    }\n",
              "\n",
              "    [theme=dark] .colab-df-convert {\n",
              "      background-color: #3B4455;\n",
              "      fill: #D2E3FC;\n",
              "    }\n",
              "\n",
              "    [theme=dark] .colab-df-convert:hover {\n",
              "      background-color: #434B5C;\n",
              "      box-shadow: 0px 1px 3px 1px rgba(0, 0, 0, 0.15);\n",
              "      filter: drop-shadow(0px 1px 2px rgba(0, 0, 0, 0.3));\n",
              "      fill: #FFFFFF;\n",
              "    }\n",
              "  </style>\n",
              "\n",
              "    <script>\n",
              "      const buttonEl =\n",
              "        document.querySelector('#df-2ff80f6c-2e43-4b3a-b7b4-26a3cc2dbfc1 button.colab-df-convert');\n",
              "      buttonEl.style.display =\n",
              "        google.colab.kernel.accessAllowed ? 'block' : 'none';\n",
              "\n",
              "      async function convertToInteractive(key) {\n",
              "        const element = document.querySelector('#df-2ff80f6c-2e43-4b3a-b7b4-26a3cc2dbfc1');\n",
              "        const dataTable =\n",
              "          await google.colab.kernel.invokeFunction('convertToInteractive',\n",
              "                                                    [key], {});\n",
              "        if (!dataTable) return;\n",
              "\n",
              "        const docLinkHtml = 'Like what you see? Visit the ' +\n",
              "          '<a target=\"_blank\" href=https://colab.research.google.com/notebooks/data_table.ipynb>data table notebook</a>'\n",
              "          + ' to learn more about interactive tables.';\n",
              "        element.innerHTML = '';\n",
              "        dataTable['output_type'] = 'display_data';\n",
              "        await google.colab.output.renderOutput(dataTable, element);\n",
              "        const docLink = document.createElement('div');\n",
              "        docLink.innerHTML = docLinkHtml;\n",
              "        element.appendChild(docLink);\n",
              "      }\n",
              "    </script>\n",
              "  </div>\n",
              "\n",
              "\n",
              "<div id=\"df-f5e4a36a-8345-46d1-8ea7-eac6961749ae\">\n",
              "  <button class=\"colab-df-quickchart\" onclick=\"quickchart('df-f5e4a36a-8345-46d1-8ea7-eac6961749ae')\"\n",
              "            title=\"Suggest charts\"\n",
              "            style=\"display:none;\">\n",
              "\n",
              "<svg xmlns=\"http://www.w3.org/2000/svg\" height=\"24px\"viewBox=\"0 0 24 24\"\n",
              "     width=\"24px\">\n",
              "    <g>\n",
              "        <path d=\"M19 3H5c-1.1 0-2 .9-2 2v14c0 1.1.9 2 2 2h14c1.1 0 2-.9 2-2V5c0-1.1-.9-2-2-2zM9 17H7v-7h2v7zm4 0h-2V7h2v10zm4 0h-2v-4h2v4z\"/>\n",
              "    </g>\n",
              "</svg>\n",
              "  </button>\n",
              "\n",
              "<style>\n",
              "  .colab-df-quickchart {\n",
              "      --bg-color: #E8F0FE;\n",
              "      --fill-color: #1967D2;\n",
              "      --hover-bg-color: #E2EBFA;\n",
              "      --hover-fill-color: #174EA6;\n",
              "      --disabled-fill-color: #AAA;\n",
              "      --disabled-bg-color: #DDD;\n",
              "  }\n",
              "\n",
              "  [theme=dark] .colab-df-quickchart {\n",
              "      --bg-color: #3B4455;\n",
              "      --fill-color: #D2E3FC;\n",
              "      --hover-bg-color: #434B5C;\n",
              "      --hover-fill-color: #FFFFFF;\n",
              "      --disabled-bg-color: #3B4455;\n",
              "      --disabled-fill-color: #666;\n",
              "  }\n",
              "\n",
              "  .colab-df-quickchart {\n",
              "    background-color: var(--bg-color);\n",
              "    border: none;\n",
              "    border-radius: 50%;\n",
              "    cursor: pointer;\n",
              "    display: none;\n",
              "    fill: var(--fill-color);\n",
              "    height: 32px;\n",
              "    padding: 0;\n",
              "    width: 32px;\n",
              "  }\n",
              "\n",
              "  .colab-df-quickchart:hover {\n",
              "    background-color: var(--hover-bg-color);\n",
              "    box-shadow: 0 1px 2px rgba(60, 64, 67, 0.3), 0 1px 3px 1px rgba(60, 64, 67, 0.15);\n",
              "    fill: var(--button-hover-fill-color);\n",
              "  }\n",
              "\n",
              "  .colab-df-quickchart-complete:disabled,\n",
              "  .colab-df-quickchart-complete:disabled:hover {\n",
              "    background-color: var(--disabled-bg-color);\n",
              "    fill: var(--disabled-fill-color);\n",
              "    box-shadow: none;\n",
              "  }\n",
              "\n",
              "  .colab-df-spinner {\n",
              "    border: 2px solid var(--fill-color);\n",
              "    border-color: transparent;\n",
              "    border-bottom-color: var(--fill-color);\n",
              "    animation:\n",
              "      spin 1s steps(1) infinite;\n",
              "  }\n",
              "\n",
              "  @keyframes spin {\n",
              "    0% {\n",
              "      border-color: transparent;\n",
              "      border-bottom-color: var(--fill-color);\n",
              "      border-left-color: var(--fill-color);\n",
              "    }\n",
              "    20% {\n",
              "      border-color: transparent;\n",
              "      border-left-color: var(--fill-color);\n",
              "      border-top-color: var(--fill-color);\n",
              "    }\n",
              "    30% {\n",
              "      border-color: transparent;\n",
              "      border-left-color: var(--fill-color);\n",
              "      border-top-color: var(--fill-color);\n",
              "      border-right-color: var(--fill-color);\n",
              "    }\n",
              "    40% {\n",
              "      border-color: transparent;\n",
              "      border-right-color: var(--fill-color);\n",
              "      border-top-color: var(--fill-color);\n",
              "    }\n",
              "    60% {\n",
              "      border-color: transparent;\n",
              "      border-right-color: var(--fill-color);\n",
              "    }\n",
              "    80% {\n",
              "      border-color: transparent;\n",
              "      border-right-color: var(--fill-color);\n",
              "      border-bottom-color: var(--fill-color);\n",
              "    }\n",
              "    90% {\n",
              "      border-color: transparent;\n",
              "      border-bottom-color: var(--fill-color);\n",
              "    }\n",
              "  }\n",
              "</style>\n",
              "\n",
              "  <script>\n",
              "    async function quickchart(key) {\n",
              "      const quickchartButtonEl =\n",
              "        document.querySelector('#' + key + ' button');\n",
              "      quickchartButtonEl.disabled = true;  // To prevent multiple clicks.\n",
              "      quickchartButtonEl.classList.add('colab-df-spinner');\n",
              "      try {\n",
              "        const charts = await google.colab.kernel.invokeFunction(\n",
              "            'suggestCharts', [key], {});\n",
              "      } catch (error) {\n",
              "        console.error('Error during call to suggestCharts:', error);\n",
              "      }\n",
              "      quickchartButtonEl.classList.remove('colab-df-spinner');\n",
              "      quickchartButtonEl.classList.add('colab-df-quickchart-complete');\n",
              "    }\n",
              "    (() => {\n",
              "      let quickchartButtonEl =\n",
              "        document.querySelector('#df-f5e4a36a-8345-46d1-8ea7-eac6961749ae button');\n",
              "      quickchartButtonEl.style.display =\n",
              "        google.colab.kernel.accessAllowed ? 'block' : 'none';\n",
              "    })();\n",
              "  </script>\n",
              "</div>\n",
              "\n",
              "  <div id=\"id_b97efbc8-7211-42c0-aac7-9e82a6754058\">\n",
              "    <style>\n",
              "      .colab-df-generate {\n",
              "        background-color: #E8F0FE;\n",
              "        border: none;\n",
              "        border-radius: 50%;\n",
              "        cursor: pointer;\n",
              "        display: none;\n",
              "        fill: #1967D2;\n",
              "        height: 32px;\n",
              "        padding: 0 0 0 0;\n",
              "        width: 32px;\n",
              "      }\n",
              "\n",
              "      .colab-df-generate:hover {\n",
              "        background-color: #E2EBFA;\n",
              "        box-shadow: 0px 1px 2px rgba(60, 64, 67, 0.3), 0px 1px 3px 1px rgba(60, 64, 67, 0.15);\n",
              "        fill: #174EA6;\n",
              "      }\n",
              "\n",
              "      [theme=dark] .colab-df-generate {\n",
              "        background-color: #3B4455;\n",
              "        fill: #D2E3FC;\n",
              "      }\n",
              "\n",
              "      [theme=dark] .colab-df-generate:hover {\n",
              "        background-color: #434B5C;\n",
              "        box-shadow: 0px 1px 3px 1px rgba(0, 0, 0, 0.15);\n",
              "        filter: drop-shadow(0px 1px 2px rgba(0, 0, 0, 0.3));\n",
              "        fill: #FFFFFF;\n",
              "      }\n",
              "    </style>\n",
              "    <button class=\"colab-df-generate\" onclick=\"generateWithVariable('X')\"\n",
              "            title=\"Generate code using this dataframe.\"\n",
              "            style=\"display:none;\">\n",
              "\n",
              "  <svg xmlns=\"http://www.w3.org/2000/svg\" height=\"24px\"viewBox=\"0 0 24 24\"\n",
              "       width=\"24px\">\n",
              "    <path d=\"M7,19H8.4L18.45,9,17,7.55,7,17.6ZM5,21V16.75L18.45,3.32a2,2,0,0,1,2.83,0l1.4,1.43a1.91,1.91,0,0,1,.58,1.4,1.91,1.91,0,0,1-.58,1.4L9.25,21ZM18.45,9,17,7.55Zm-12,3A5.31,5.31,0,0,0,4.9,8.1,5.31,5.31,0,0,0,1,6.5,5.31,5.31,0,0,0,4.9,4.9,5.31,5.31,0,0,0,6.5,1,5.31,5.31,0,0,0,8.1,4.9,5.31,5.31,0,0,0,12,6.5,5.46,5.46,0,0,0,6.5,12Z\"/>\n",
              "  </svg>\n",
              "    </button>\n",
              "    <script>\n",
              "      (() => {\n",
              "      const buttonEl =\n",
              "        document.querySelector('#id_b97efbc8-7211-42c0-aac7-9e82a6754058 button.colab-df-generate');\n",
              "      buttonEl.style.display =\n",
              "        google.colab.kernel.accessAllowed ? 'block' : 'none';\n",
              "\n",
              "      buttonEl.onclick = () => {\n",
              "        google.colab.notebook.generateWithVariable('X');\n",
              "      }\n",
              "      })();\n",
              "    </script>\n",
              "  </div>\n",
              "\n",
              "    </div>\n",
              "  </div>\n"
            ],
            "application/vnd.google.colaboratory.intrinsic+json": {
              "type": "dataframe",
              "variable_name": "X",
              "summary": "{\n  \"name\": \"X\",\n  \"rows\": 200,\n  \"fields\": [\n    {\n      \"column\": \"AGE_50\",\n      \"properties\": {\n        \"dtype\": \"number\",\n        \"std\": 10,\n        \"min\": 20,\n        \"max\": 69,\n        \"num_unique_values\": 45,\n        \"samples\": [\n          65,\n          30,\n          44\n        ],\n        \"semantic_type\": \"\",\n        \"description\": \"\"\n      }\n    },\n    {\n      \"column\": \"MD_50\",\n      \"properties\": {\n        \"dtype\": \"number\",\n        \"std\": 1,\n        \"min\": 1,\n        \"max\": 4,\n        \"num_unique_values\": 4,\n        \"samples\": [\n          2,\n          3,\n          1\n        ],\n        \"semantic_type\": \"\",\n        \"description\": \"\"\n      }\n    },\n    {\n      \"column\": \"SBP_50\",\n      \"properties\": {\n        \"dtype\": \"number\",\n        \"std\": 18,\n        \"min\": 88,\n        \"max\": 210,\n        \"num_unique_values\": 38,\n        \"samples\": [\n          132,\n          88,\n          122\n        ],\n        \"semantic_type\": \"\",\n        \"description\": \"\"\n      }\n    },\n    {\n      \"column\": \"DBP_50\",\n      \"properties\": {\n        \"dtype\": \"number\",\n        \"std\": 11,\n        \"min\": 38,\n        \"max\": 140,\n        \"num_unique_values\": 31,\n        \"samples\": [\n          94,\n          104,\n          140\n        ],\n        \"semantic_type\": \"\",\n        \"description\": \"\"\n      }\n    },\n    {\n      \"column\": \"HT_50\",\n      \"properties\": {\n        \"dtype\": \"number\",\n        \"std\": 2,\n        \"min\": 61,\n        \"max\": 75,\n        \"num_unique_values\": 15,\n        \"samples\": [\n          68,\n          73,\n          64\n        ],\n        \"semantic_type\": \"\",\n        \"description\": \"\"\n      }\n    },\n    {\n      \"column\": \"WT_50\",\n      \"properties\": {\n        \"dtype\": \"number\",\n        \"std\": 26,\n        \"min\": 109,\n        \"max\": 245,\n        \"num_unique_values\": 92,\n        \"samples\": [\n          245,\n          160,\n          199\n        ],\n        \"semantic_type\": \"\",\n        \"description\": \"\"\n      }\n    },\n    {\n      \"column\": \"SES\",\n      \"properties\": {\n        \"dtype\": \"number\",\n        \"std\": 1,\n        \"min\": 1,\n        \"max\": 5,\n        \"num_unique_values\": 5,\n        \"samples\": [\n          1,\n          5,\n          4\n        ],\n        \"semantic_type\": \"\",\n        \"description\": \"\"\n      }\n    },\n    {\n      \"column\": \"CL_STATUS\",\n      \"properties\": {\n        \"dtype\": \"number\",\n        \"std\": 1,\n        \"min\": 0,\n        \"max\": 8,\n        \"num_unique_values\": 7,\n        \"samples\": [\n          8,\n          6,\n          3\n        ],\n        \"semantic_type\": \"\",\n        \"description\": \"\"\n      }\n    },\n    {\n      \"column\": \"MD_62\",\n      \"properties\": {\n        \"dtype\": \"number\",\n        \"std\": 1,\n        \"min\": 1,\n        \"max\": 5,\n        \"num_unique_values\": 5,\n        \"samples\": [\n          2,\n          3,\n          1\n        ],\n        \"semantic_type\": \"\",\n        \"description\": \"\"\n      }\n    },\n    {\n      \"column\": \"SBP_62\",\n      \"properties\": {\n        \"dtype\": \"number\",\n        \"std\": 24,\n        \"min\": 70,\n        \"max\": 230,\n        \"num_unique_values\": 55,\n        \"samples\": [\n          136,\n          138,\n          146\n        ],\n        \"semantic_type\": \"\",\n        \"description\": \"\"\n      }\n    },\n    {\n      \"column\": \"DBP_62\",\n      \"properties\": {\n        \"dtype\": \"number\",\n        \"std\": 12,\n        \"min\": 56,\n        \"max\": 125,\n        \"num_unique_values\": 32,\n        \"samples\": [\n          82,\n          95,\n          98\n        ],\n        \"semantic_type\": \"\",\n        \"description\": \"\"\n      }\n    },\n    {\n      \"column\": \"CHOL_62\",\n      \"properties\": {\n        \"dtype\": \"number\",\n        \"std\": 46,\n        \"min\": 139,\n        \"max\": 368,\n        \"num_unique_values\": 123,\n        \"samples\": [\n          300,\n          255,\n          210\n        ],\n        \"semantic_type\": \"\",\n        \"description\": \"\"\n      }\n    },\n    {\n      \"column\": \"WT_62\",\n      \"properties\": {\n        \"dtype\": \"number\",\n        \"std\": 27,\n        \"min\": 108,\n        \"max\": 246,\n        \"num_unique_values\": 92,\n        \"samples\": [\n          183,\n          135,\n          126\n        ],\n        \"semantic_type\": \"\",\n        \"description\": \"\"\n      }\n    },\n    {\n      \"column\": \"IHD_DX\",\n      \"properties\": {\n        \"dtype\": \"number\",\n        \"std\": 2,\n        \"min\": 0,\n        \"max\": 9,\n        \"num_unique_values\": 10,\n        \"samples\": [\n          8,\n          9,\n          5\n        ],\n        \"semantic_type\": \"\",\n        \"description\": \"\"\n      }\n    },\n    {\n      \"column\": \"DEATH\",\n      \"properties\": {\n        \"dtype\": \"number\",\n        \"std\": 0,\n        \"min\": 0,\n        \"max\": 1,\n        \"num_unique_values\": 2,\n        \"samples\": [\n          0,\n          1\n        ],\n        \"semantic_type\": \"\",\n        \"description\": \"\"\n      }\n    }\n  ]\n}"
            }
          },
          "metadata": {},
          "execution_count": 110
        }
      ]
    }
  ]
}